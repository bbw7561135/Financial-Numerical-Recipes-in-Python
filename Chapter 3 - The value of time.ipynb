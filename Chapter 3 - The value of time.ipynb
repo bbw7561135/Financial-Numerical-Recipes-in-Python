{
 "cells": [
  {
   "cell_type": "markdown",
   "metadata": {},
   "source": [
    "## Chapter 3 - The value of time"
   ]
  },
  {
   "cell_type": "markdown",
   "metadata": {},
   "source": [
    "Finance as a field of study is sometimes somewhat flippantly said to deal with the value of two things: *time* and *risk*. While this is not the whole story, there is a deal of truth in it. These are the two issues which is always present. We start our discussion by ignoring risk and only considering the implications of the fact that anybody prefers to get something earlier rather than later, or the value of time."
   ]
  },
  {
   "cell_type": "markdown",
   "metadata": {},
   "source": [
    "### 3.1 Present value\n",
    "The present value is the current value of a stream of future payments. Let $C_t$ be the cash flow at time *t*. Suppose we have $N$ future cash flows that occur at times $t_1, t_2, ... t_N$.\n",
    "\n",
    "To find the *present* value of these future cash flows one need a set of prices of future cash flows. Suppose $d_t$ is the price one would pay today for the right to receive one dollar at a future date *t*. Such a price is also called a *discount factor*. To complicate matters further such prices will differ depending on the riskiness of the future cash flows. For now we concentrate on one particular set of prices, the prices of riskless future cash flows. We will return to how one would adjust the prices for risky cash flows. If one knows the set of prices for future claims of one dollar, $d_1, d_2, ... d_n$ one would calculate the present value as the sum of the present values of the different elements.\n",
    "\n",
    "$$PV = \\sum_{N}^{t=1} d_{t_i}C_{t_i}$$"
   ]
  },
  {
   "cell_type": "markdown",
   "metadata": {},
   "source": [
    "However, knowing this set of current prices for cash flows at all future dates is not always feasible, and\n",
    "some way has to be found to simplify the data need inherent in such general present value calculations."
   ]
  },
  {
   "cell_type": "markdown",
   "metadata": {},
   "source": [
    "### 3.2 One interest rate with annual compounding\n",
    "The best known way to simplify the present value calculation is to rewrite the discount factors in terms of interest rates, or yields, through the relationship:\n",
    "\n",
    "$$d_t = \\frac{1}{(1+r_t)^t}$$"
   ]
  },
  {
   "cell_type": "markdown",
   "metadata": {},
   "source": [
    "where $r_t$ is the interest rate (usually termed the spot rate) relevant for a *t*-period investment. To further simplify this calculation one can impose that this interest rate *r* is constant for all periods. This is termed a flat term structure. We will in the next chapter relax this simplifying assumption. The prices for valuing the future payments $d_t$ is calculated from this interest rate:\n",
    "\n",
    "$$d_t = \\frac{1}{(1+r_t)^t`}$$"
   ]
  },
  {
   "cell_type": "markdown",
   "metadata": {},
   "source": [
    "In this case one would calculate the present value of a stream of cash flows paid at discrete dates\n",
    "$t = 1, 2 ... N$ as\n",
    "\n",
    "$$PV=\\sum_{t=1}^{N} \\frac{C_t}{(1+r+)^t`}$$"
   ]
  },
  {
   "cell_type": "markdown",
   "metadata": {},
   "source": [
    "#### Example\n",
    "\n",
    "An investment project has an investment cost of 100 today, and produces cash flows of 75 each of the next two years. What is the Net Present Value of the project?"
   ]
  },
  {
   "cell_type": "code",
   "execution_count": 1,
   "metadata": {
    "collapsed": false
   },
   "outputs": [
    {
     "name": "stdout",
     "output_type": "stream",
     "text": [
      "Present value, 10 percent discretely compounding interest = 30.1653\n"
     ]
    }
   ],
   "source": [
    "import numpy as np\n",
    "\n",
    "c = np.array([-100, 75, 75])\n",
    "t = np.array([0, 1, 2])\n",
    "r = .1\n",
    "\n",
    "print('Present value, 10 percent discretely compounding interest = {:.4f}'.format(\n",
    "       np.npv(r, c)))"
   ]
  },
  {
   "cell_type": "markdown",
   "metadata": {},
   "source": [
    "Given the assumption of a discrete, annual interest rate, there are a number of useful special cases of cash flows where one can calculate the present value in a simplified manner. Some of these are shown in the following exercises."
   ]
  },
  {
   "cell_type": "markdown",
   "metadata": {},
   "source": [
    "### 3.2.1 Internal rate of return\n",
    "In addition to its role in simplifying present value calculations, the interest rate has some further use. The percentage return on an investment is a summary measure of the investment’s profitability. Saying that an investment earns 10% per year is a good way of summarizing the cash flows in a way that does not depend on the amount of the initial investment. The return is thus a relative measure of profitability. To estimate a return for a set of cash flows we calculate the internal rate of return. The *internal rate of return* for a set of cash flows is the interest rate that makes the present value of the cash flows equal to zero. When there is a uniquely defined internal rate of return we get a relative measure of the profitability of a set of cash flows, measured as a return, typically expressed as a percentage. Note some of the implicit assumptions made here. We assume that the same interest rate applies at all future dates (i.e. a flat term structure). The IRR method also assumes intermediate cash flows are reinvested at the internal rate of return.\n",
    "\n",
    "Suppose the cash flows are $C_0, C_1, C_2, ... C_T$ . Finding an internal rate of return is finding a solution $y$ of the equation\n",
    "\n",
    "$$\\sum_{t=1}^{t=1}\\frac{C_t}{(1+y)^t}-C_o=0$$"
   ]
  },
  {
   "cell_type": "markdown",
   "metadata": {},
   "source": [
    "Note that this is a polynomial equation, and as $T$ becomes large, there in no way to find an explicit\n",
    "solution to the equation. It therefore needs to be solved numerically. For well behaved cash flows, where we know that there is one IRR, the method implemented below is suitable, it is an iterative\n",
    "process called bisection."
   ]
  },
  {
   "cell_type": "markdown",
   "metadata": {},
   "source": [
    "#### Example\n",
    "\n",
    "We are considering an investment with the following cash flows at dates 0, 1 and 2:\n",
    "\n",
    "        $C0 = -100, C_1 = 10, C_2 = 110$\n",
    "1. The current interest rate (with discrete, annual compounding) is 5%. Determine the present value of\n",
    "the cash flows.\n",
    "\n",
    "2. Find the internal rate of return of this sequence of cash flows."
   ]
  },
  {
   "cell_type": "code",
   "execution_count": 2,
   "metadata": {
    "collapsed": false,
    "scrolled": true
   },
   "outputs": [
    {
     "name": "stdout",
     "output_type": "stream",
     "text": [
      "present value, 5 percent discretely compounding interest = 9.29705\n",
      "internal rate of return, discrete compounding = 0.1\n"
     ]
    }
   ],
   "source": [
    "c = np.array([-100, 10, 110])\n",
    "r = 0.05\n",
    "\n",
    "print('present value, 5 percent discretely compounding interest = {:.5f}'.format(np.npv(r, c)))\n",
    "print('internal rate of return, discrete compounding = {:.1f}'.format(np.irr(c)))"
   ]
  },
  {
   "cell_type": "markdown",
   "metadata": {},
   "source": [
    "In addition to the above economic qualifications to interpretations of the internal rate of return, we also\n",
    "have to deal with technical problem stemming from the fact that any polynomial equation has potentially\n",
    "several solutions, some of which may be imaginary. By imaginary here we mean that we move away from\n",
    "the real line to the set of complex numbers. In economics we prefer the real solutions, complex interest\n",
    "rates are not something we have much intuition about... To see whether we are likely to have problems\n",
    "in identifying a single meaningful IRR, the code shown in code 3.3 implements a simple check. It is only\n",
    "a necessary condition for a unique IRR, not sufficient, so you may still have a well-defined IRR even\n",
    "if this returns false. The first test is just to count the number of sign changes in the cash flow. From\n",
    "Descartes rule we know that the number of real roots is one if there is only one sign change. If there is\n",
    "more than one change in the sign of cash flows, we can go further and check the *aggregated* cash flows\n",
    "for sign changes (See Norstrom (1972))."
   ]
  },
  {
   "cell_type": "code",
   "execution_count": 3,
   "metadata": {
    "collapsed": true
   },
   "outputs": [],
   "source": [
    "%matplotlib inline\n",
    "import seaborn as sns; sns.set(style='white')\n",
    "import matplotlib.pyplot as plt"
   ]
  },
  {
   "cell_type": "code",
   "execution_count": 4,
   "metadata": {
    "collapsed": false
   },
   "outputs": [],
   "source": [
    "cf0 = np.array([-100, 10, 100])\n",
    "npv_cf0 = np.ones(50)\n",
    "\n",
    "for index, rate in enumerate(np.linspace(0, 0.12, 50)):\n",
    "    npv_cf0[index] = np.npv(rate, cf0)\n",
    "\n",
    "cf1 = np.array([-100, 201, -100])\n",
    "npv_cf1 = np.ones(50)\n",
    "\n",
    "for index, rate in enumerate(np.linspace(-0.2, .2, 50)):\n",
    "    npv_cf1[index] = np.npv(rate, cf1)"
   ]
  },
  {
   "cell_type": "code",
   "execution_count": 5,
   "metadata": {
    "collapsed": false
   },
   "outputs": [
    {
     "data": {
      "image/png": "[encoded data removed]",
      "text/plain": [
       "<matplotlib.figure.Figure at 0xaab3e83320>"
      ]
     },
     "metadata": {},
     "output_type": "display_data"
    }
   ],
   "source": [
    "fig, ax = plt.subplots(1, 2, figsize=(14, 5))\n",
    "\n",
    "ax[0].plot(np.linspace(0, 0.12, 50), npv_cf0, c='r', label='pv(r)')\n",
    "ax[0].axhline(0, c='g', label=0)\n",
    "ax[0].set_xlim(0, 0.12)\n",
    "ax[0].set_xlabel('$C_o=-100, C_1=10, C_2=100$', fontsize=15)\n",
    "ax[0].legend()\n",
    "\n",
    "ax[1].plot(np.linspace(-0.2, .2, 50), npv_cf1, c='r', label='pv(r)')\n",
    "ax[1].axhline(0, c='g', label=0)\n",
    "ax[1].set_xlim(-.2, 0.2)\n",
    "ax[1].set_xlabel('$C_o=-100, C_1=201, C_2=-100$', fontsize=15)\n",
    "ax[1].legend();"
   ]
  },
  {
   "cell_type": "markdown",
   "metadata": {
    "collapsed": true
   },
   "source": [
    "### 3.3 Continously compounding interest\n",
    "Such discrete compounding as we have just discussed is not the only alternative way to approximate the\n",
    "discount factor. The discretely compounded case assumes that interest is added at discrete points in time\n",
    "(hence the name). However, an alternative assumption is to assume that interest is added continously. If\n",
    "compounding is continous, and $r$ is the interest rate, one would calculate the current price $d_t$ of reciving\n",
    "one dollar at a future date $t$ as\n",
    "\n",
    "$$d_t = e^{-rt}$$"
   ]
  },
  {
   "cell_type": "markdown",
   "metadata": {},
   "source": [
    "some rules for translating between continously compounded and discretly compounded\n",
    "interest rates.\n",
    "\n",
    "$r=n\\ln\\Big(1+\\frac{r_n}{n}\\Big)$\n",
    "\n",
    "$r_n= n \\Big(e^{\\frac{r}{n}}-1\\Big)$\n",
    "\n",
    "Future value = $e^{rt}$\n",
    "\n",
    "Present value = $e^{-rt}$\n",
    "\n",
    "Notation: $r_n$: interest rate with discrete compounding, $n$: compounding periods per year. $r$: interest rate with\n",
    "continuous compounding, $t$: time to maturity."
   ]
  },
  {
   "cell_type": "markdown",
   "metadata": {},
   "source": [
    "#### Example\n",
    "1. Given a 15% interest rate with monthly compounding, calculate the equivalent interest rate with continuous\n",
    "compounding.\n",
    "2. Given a 12% interest with continuous compounding, find the equivalent interest rate with quarterly\n",
    "compounding."
   ]
  },
  {
   "cell_type": "code",
   "execution_count": 6,
   "metadata": {
    "collapsed": false
   },
   "outputs": [],
   "source": [
    "r = 12 * np.log(1 + .15 / 12)\n",
    "r4 = 4 * (np.exp(.12 / 4) - 1)"
   ]
  },
  {
   "cell_type": "code",
   "execution_count": 7,
   "metadata": {
    "collapsed": false
   },
   "outputs": [
    {
     "name": "stdout",
     "output_type": "stream",
     "text": [
      "0.149070239983\n",
      "0.121818135814\n"
     ]
    }
   ],
   "source": [
    "print(r)\n",
    "print(r4)"
   ]
  },
  {
   "cell_type": "markdown",
   "metadata": {},
   "source": [
    "### 3.3.1 Present value"
   ]
  },
  {
   "cell_type": "markdown",
   "metadata": {},
   "source": [
    "Applying this to a set of cash flows at future dates $t_1, t_2, ... t_n$, we get the following present value calculation:\n",
    "\n",
    "$$PV=\\sum_{t=1}^{n} e^{-rt_i}C_{t_i}$$"
   ]
  },
  {
   "cell_type": "code",
   "execution_count": null,
   "metadata": {
    "collapsed": true
   },
   "outputs": [],
   "source": []
  }
 ],
 "metadata": {
  "anaconda-cloud": {},
  "kernelspec": {
   "display_name": "Python [default]",
   "language": "python",
   "name": "python3"
  },
  "language_info": {
   "codemirror_mode": {
    "name": "ipython",
    "version": 3
   },
   "file_extension": ".py",
   "mimetype": "text/x-python",
   "name": "python",
   "nbconvert_exporter": "python",
   "pygments_lexer": "ipython3",
   "version": "3.5.1"
  }
 },
 "nbformat": 4,
 "nbformat_minor": 1
}
