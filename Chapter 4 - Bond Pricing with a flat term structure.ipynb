{
 "cells": [
  {
   "cell_type": "markdown",
   "metadata": {},
   "source": [
    "## Chapter 4: Bond pricing with a flat term structure"
   ]
  },
  {
   "cell_type": "markdown",
   "metadata": {},
   "source": [
    "In this section we use the present value framework of the previous chapter to price bonds and other fixed income securities. What distinguishes bonds is that the future payments are set when the security is issued. The simplest, and most typical bond, is a fixed interest, constant maturity bond with no default risk. There is however a large number of alternative contractual features of bonds. The bond could for example ba an annuity bond, paying a fixed amount each period. For such a bond the principal amount outstanding is paid gradually during the life of the bond. The interest rate the bond pays need not be fixed, it could be a floating rate, the interest rate paid could be a function of some market rate. Many bonds are issued by corporations, and in such cases there is a risk that the company issued the bond defaults, and the bond does not pay the complete promised amount. Another thing that makes bond pricing difficult in practice, is that interest rates tend to change over time.\n",
    "\n",
    "\n",
    "We start by assuming that all the promised payments are certain. Then the bond current price $B_0$ is found as the present value of these payments. The first step of pricing is to use the terms of the bond to find the promised payments. We start by considering a fixed  interest bond with no default risk. Such bonds are typically bonds issued by governments. The bond is a promis to pay a face value $F$ at the maturity date $T$ periods from now. Each period the bond pays a fixed percentage amount of the face value as coupon C. The cash flows from the bond thus look as follows.\n",
    "\n",
    "In general a bond price is found as the present value\n",
    "\n",
    "$$B_0=d_1C_1+d_2C_2+\\cdot\\cdot\\cdot+d_TC_T=\\sum_{t=1}^{T}d_tC_t$$\n",
    "\n",
    "where $d_t$ is the discount factor, or the time 0 price of a payment of 1 at time $t$. To fully specify the\n",
    "problem it is necessary to find all discount factors $d_t$. In this chapter we will work with a specially simple\n",
    "specifiction of the term structure, namely that it is flat, and specified by the interest rate $r$."
   ]
  },
  {
   "cell_type": "markdown",
   "metadata": {},
   "source": [
    "### 4.1 Flat term structure with discrete, annual compounding\n",
    "This is the simplest possible specification of a term structure,\n",
    "\n",
    "$$d_t = \\Big(\\frac{1}{1+r}\\Big)^t=\\frac{1}{(1+r)^t}$$"
   ]
  },
  {
   "cell_type": "markdown",
   "metadata": {},
   "source": [
    "### 4.1.1 Bond Price\n",
    "The current bond price $(B_0)$ is the present value of the cash flows from the bond\n",
    "\n",
    "$$B_0=\\sum_{t=1}^{T}\\Bigg(\\frac{1}{(1+r)^t}\\Bigg)C_t=\\sum_{t=1}^{T}\\frac{C_t}{(1+r)^t}$$\n",
    "\n",
    "If we continue with the example of a standard fixed interest bond, where $C_t = C$ when $t < T$ and\n",
    "$CT = C + F$,"
   ]
  },
  {
   "cell_type": "markdown",
   "metadata": {},
   "source": [
    "#### Example\n",
    "A 3 year bond with a face value of $100 makes annual coupon payments of 10%. The current interest rate\n",
    "(with annual compounding) is 9%.\n",
    "\n",
    "1. Determine the current bond price.\n",
    "\n",
    "The current bond price: $B_0=\\frac{10}{(1+0.09)^1}+\\frac{10}{(1+0.09)^2}+\\frac{110}{(1+0.09)^3}=102.531$"
   ]
  },
  {
   "cell_type": "code",
   "execution_count": 1,
   "metadata": {
    "collapsed": true
   },
   "outputs": [],
   "source": [
    "# Code 4.1: Bond pricing calculation with discrete, annual compoudning\n",
    "\n",
    "def bonds_price_discrete(times, cashflows, r):\n",
    "    \n",
    "    p = 0\n",
    "    \n",
    "    for i in range(len(times)):\n",
    "        p += cashflows[i] / np.power((1 + r), times[i])\n",
    "        \n",
    "    return p"
   ]
  },
  {
   "cell_type": "code",
   "execution_count": 2,
   "metadata": {
    "collapsed": false
   },
   "outputs": [],
   "source": [
    "import numpy as np \n",
    "\n",
    "c = np.array([10, 10, 110])\n",
    "t = np.arange(1, 4)\n",
    "r = 0.09\n",
    "d = (1. / np.power((1 + r), t))\n",
    "B = np.sum(d * c)"
   ]
  },
  {
   "cell_type": "code",
   "execution_count": 3,
   "metadata": {
    "collapsed": false,
    "scrolled": true
   },
   "outputs": [
    {
     "name": "stdout",
     "output_type": "stream",
     "text": [
      "bonds price = 102.531\n"
     ]
    }
   ],
   "source": [
    "print('bonds price = {:.3f}'.format(bonds_price_discrete(t, c, r)))"
   ]
  },
  {
   "cell_type": "markdown",
   "metadata": {},
   "source": [
    "### 4.1.1 Yield to maturity\n",
    "Since bonds are issued in terms of interest rate, it is also useful to find an interest rate number that\n",
    "summarizes the terms of the bond. The obvious way of doing that is asking the question: What is the\n",
    "internal rate of return on the investment of buying the bond now and keeping the bond to maturity?\n",
    "The answer to that question is the yield to maturity of a bond. The yield to maturity is the interest\n",
    "rate that makes the present value of the future coupon payments equal to the current bond price, that\n",
    "is, for a known price $B_0$, the yield is the solution y to the equation\n",
    "\n",
    "$$B_0\\sum_{t=1}^{T}\\frac{C_t}{(1+y)^t}$$"
   ]
  },
  {
   "cell_type": "markdown",
   "metadata": {},
   "source": [
    "This calculation therefore has the same qualifications as discussed earlier calculating IRR, it supposes\n",
    "reinvestment of coupon at the bond yield (the IRR).\n",
    "\n",
    "There is much less likelihood we’ll have technical problems with multiple solutions when doing this yield\n",
    "estimation for bonds, since the structure of cash flows is such that there exist only one solution to the\n",
    "equation. The algorithm for finding a bonds yield to maturity shown in **Code 4.2** is thus simple\n",
    "bisection. We know that the bond yield is above zero and set zero as a lower bound on the bond yield.\n",
    "We then find an upper bound on the yield by increasing the interest rate until the bond price with this\n",
    "interest rate is negative. We then bisect the interval between the upper and lower until we are “close\n",
    "enough.” **Code 4.2** implements this idea."
   ]
  },
  {
   "cell_type": "code",
   "execution_count": 4,
   "metadata": {
    "collapsed": false
   },
   "outputs": [],
   "source": [
    "# Code 4.2: Bond yield calculation with discrete, annual compounding\n",
    "\n",
    "def bond_yield_to_maturity_discrete(times, cashflows, bondprice):\n",
    "    \n",
    "    ACCURACY = 1e-5\n",
    "    MAX_ITERATIONS = 200\n",
    "    bot = 0\n",
    "    top = 1.\n",
    "    \n",
    "    while bonds_price_discrete(times, cashflows, top) > bondprice: \n",
    "        top = top * 2\n",
    "        \n",
    "    r = .5 * (top + bot)\n",
    "    \n",
    "    for _ in range(MAX_ITERATIONS):\n",
    "        diff = bonds_price_discrete(times, cashflows, r) - bondprice\n",
    "        \n",
    "        if np.abs(diff) < ACCURACY:\n",
    "            return r\n",
    "        \n",
    "        if diff > 0:\n",
    "            bot = r\n",
    "            \n",
    "        else:\n",
    "            top = r\n",
    "            \n",
    "        r = .5 * (top + bot)\n",
    "        \n",
    "    return r"
   ]
  },
  {
   "cell_type": "markdown",
   "metadata": {},
   "source": [
    "#### Example \n",
    "A 3 year bond with a face value of $100 makes annual coupon payments of 10%. The current interest rate\n",
    "(with annual compounding) is 9%.\n",
    "\n",
    "1. Find the bond’s current price.\n",
    "2. Find the bond’s yield to maturity."
   ]
  },
  {
   "cell_type": "code",
   "execution_count": 5,
   "metadata": {
    "collapsed": false
   },
   "outputs": [],
   "source": [
    "c = np.array([10, 10, 110])\n",
    "t = np.arange(1, 4)\n",
    "r = .09\n",
    "b = np.sum(c * (1. / np.power((1 + r), t)))"
   ]
  },
  {
   "cell_type": "code",
   "execution_count": 6,
   "metadata": {
    "collapsed": false
   },
   "outputs": [
    {
     "name": "stdout",
     "output_type": "stream",
     "text": [
      "Bond price, 9 percent discretely compounded interest = 102.531\n",
      "bond yield to maturity = 0.09\n"
     ]
    }
   ],
   "source": [
    "print('Bond price, 9 percent discretely compounded interest = {:.3f}'.format(\n",
    "        bonds_price_discrete(t, c, r)))\n",
    "\n",
    "print('bond yield to maturity = {:.2f}'.format(bond_yield_to_maturity_discrete(t, c, b)))"
   ]
  },
  {
   "cell_type": "markdown",
   "metadata": {},
   "source": [
    "### 4.1.3 Duration\n",
    "\n",
    "When holding a bond one would like to know how sensitive the value of the bond is to changes in\n",
    "economic environment. The most relevent piece of the economic environment is the current interest\n",
    "rate. An important component of such calculation is the duration of a bond. The duration of a bond\n",
    "should be interpreted as the weighted average maturity of the bond, and is calculated as\n",
    "\n",
    "$$Duration = \\frac{\\sum_{t}t\\frac{C_t}{(1+r)^t}}{Bond\\ Price'}$$\n",
    "\n",
    "where $C_t$ is the cash flow in period $t$, and $r$ the interest rate. Using the bond price calculated in equation 4.1 we calculate duration as\n",
    "\n",
    "$$D=\\frac{\\sum_{t}\\frac{tC_t}{(1+r)^t}}{\\sum_{t}\\frac{C_t}{((1+r)^t}}$$"
   ]
  },
  {
   "cell_type": "code",
   "execution_count": 7,
   "metadata": {
    "collapsed": true
   },
   "outputs": [],
   "source": [
    "# Code 4.3: Bond duration using discrete, annual compounding and a flat term structure\n",
    "\n",
    "def bonds_duration_discrete(times, cashflows, r):\n",
    "    \n",
    "    b = 0\n",
    "    d = 0\n",
    "    \n",
    "    for i in range(len(times)):\n",
    "        \n",
    "        d += times[i] * cashflows[i] / np.power((1 + r), times[i])\n",
    "        b += cashflows[i] / np.power((1 + r), times[i])\n",
    "        \n",
    "    return d / b"
   ]
  },
  {
   "cell_type": "markdown",
   "metadata": {},
   "source": [
    "An alternative approach to calculating duration is calculate the yield to maturity $y$ for the bond, and\n",
    "use that in estimating the bond price. This is called *Macaulay Duration*. First one calculates $y$, the\n",
    "yield to maturity, from\n",
    "\n",
    "$$Bond\\ price = \\sum_{t=1}^{T}\\frac{C_t}{(1+y)^t}$$\n",
    "\n",
    "and then use this y in the duration calculation:\n",
    "\n",
    "$$ Macaulay\\ duration=\\frac{\\sum_{t}\\frac{tC_t}{(1+r)^t}}{\\sum_{t}\\frac{C_t}{((1+r)^t}}$$\n",
    "\n",
    "Note though, that in the present case, with a flat term structure, these should produce the same number.\n",
    "If the bond is priced correctly, the yield to maturity must equal the current interest rate. If $r = y$ the\n",
    "two calculations in equations (4.4) and (4.5) obviously produces the same number."
   ]
  },
  {
   "cell_type": "markdown",
   "metadata": {},
   "source": [
    "#### Example\n",
    "A 3 year bond with a face value of $100 makes annual coupon payments of 10%. The current interest rate\n",
    "(with annual compounding) is 9%."
   ]
  },
  {
   "cell_type": "code",
   "execution_count": 8,
   "metadata": {
    "collapsed": true
   },
   "outputs": [],
   "source": [
    "# Code 4.4: Calculating the Macaulay duration of a bond\n",
    "\n",
    "def bonds_duration_macaulay_discrete(times, cashflows, bondprice):\n",
    "    y = bond_yield_to_maturity_discrete(times, cashflows, bondprice)\n",
    "    \n",
    "    return bonds_duration_discrete(times, cashflows, y) # use YTM in duration calculation"
   ]
  },
  {
   "cell_type": "markdown",
   "metadata": {},
   "source": [
    "1. Determine the current bond price.\n",
    "2. Calculate the duration using the current interest rate.\n",
    "3. Calculate the duration using the MaCaulay definition.\n",
    "\n",
    "Need to calculate the following:\n",
    "\n",
    "The current bond price: $B_0=\\frac{10}{(1+0.09)^1}+\\frac{10}{(1+0.09)^2}+\\frac{110}{(1+0.09)^3}=102.531$\n",
    "\n",
    "The bond's duration: $D=\\frac{1}{102.531}\\Big(\\frac{1.10}{1.09}+\\frac{2.10}{1.09^2}+\\frac{3.110}{1.09^3}\\Big)=2.74$"
   ]
  },
  {
   "cell_type": "code",
   "execution_count": 9,
   "metadata": {
    "collapsed": false
   },
   "outputs": [],
   "source": [
    "c = np.array([10., 10, 110])\n",
    "t = np.arange(1, 4)\n",
    "r = .09\n",
    "b = np.sum(c * (1. / np.power((1 + r), t)))\n",
    "d = np.sum(( 1 / b) * t * c * (1. / np.power((1 + r), t)))\n",
    "y = np.irr(np.insert(c, 0, -b))\n",
    "dm = np.sum((1 / b) * t * c * (1. / np.power((1 + r), t)))"
   ]
  },
  {
   "cell_type": "code",
   "execution_count": 10,
   "metadata": {
    "collapsed": false
   },
   "outputs": [
    {
     "name": "stdout",
     "output_type": "stream",
     "text": [
      "bonds price = 102.531\n",
      "bond duration = 2.73895\n",
      "bond macaulay = 2.73895\n"
     ]
    }
   ],
   "source": [
    "print('bonds price = {:.3f}'.format(bonds_price_discrete(t, c, r)))\n",
    "print('bond duration = {:.5f}'.format(bonds_duration_discrete(t, c, r)))\n",
    "print('bond macaulay = {:.5f}'.format(bonds_duration_macaulay_discrete(t, c, b)))"
   ]
  },
  {
   "cell_type": "markdown",
   "metadata": {},
   "source": [
    "### 4.1.4 Measuring bond sensitivity to interest rate changes\n",
    "\n",
    "Now, the reason for why we say that we can measure the sensitivity of a bond price using duration. To\n",
    "a first approximation, $\\Delta B_0$, the change in the bond price for a small change in the interest rate $\\Delta r$, can\n",
    "be calculated\n",
    "\n",
    "$$\\frac{\\Delta B_0}{B_0} \\approx - \\frac{D}{1+r} \\Delta r$$\n",
    "\n",
    "where $D$ is the bond’s duration. For simplicity one often calculates the term in front of the $\\Delta y$ in the above, $\\frac{D}{1+y}$ directly and terms it the bond’s *modified duration*.\n",
    "\n",
    "$$Modified\\ Duration=D^*=\\frac{D}{1+r}$$\n",
    "\n",
    "The sensitivity calculation is then\n",
    "$$D^*=\\frac{D}{1+y}$$"
   ]
  },
  {
   "cell_type": "code",
   "execution_count": 11,
   "metadata": {
    "collapsed": false
   },
   "outputs": [],
   "source": [
    "# Code 4.5: Modified duration\n",
    "def bonds_duration_modifed_discrete(times, cashflows, bond_price):\n",
    "    \n",
    "    y = bond_yield_to_maturity_discrete(times, cashflows, bond_price)\n",
    "    d = bonds_duration_discrete(times, cashflows, y)\n",
    "    \n",
    "    return d / (1 + y)"
   ]
  },
  {
   "cell_type": "markdown",
   "metadata": {},
   "source": [
    "The modified duration measures the angle of the tangent at the current bond yield. Approximating\n",
    "the change in bond price with duration is thus only a first order approximation. To improve on this\n",
    "approximation we also need to account for the curvature in the relationship between bond price and\n",
    "interest rate. To quantify this curvature we calculate the *convexity* of a bond.\n",
    "\n",
    "$$Convexity=Cx=\\frac{1}{B_0}\\frac{1}{((1+r)^2}\\sum_{t=1}^{T}(t+t^2)\\frac{C_t}{(1+r)^t}$$\n",
    "\n",
    "This calculation is implemented in **Code 4.6**. To improve on the estimate of how the bond price"
   ]
  },
  {
   "cell_type": "code",
   "execution_count": 12,
   "metadata": {
    "collapsed": false
   },
   "outputs": [],
   "source": [
    "# Code 4.6: Bond convexity with a flat term structure and annual compounding\n",
    "\n",
    "def bonds_convexity_discrete(times, cashflows, r):\n",
    "    \n",
    "    cx = 0.\n",
    "    \n",
    "    for i in range(len(times)):\n",
    "        cx += cashflows[i] * times[i] * (times[i] + 1) / np.power((1 + r), times[i])\n",
    "    \n",
    "    b = bonds_price_discrete(times, cashflows, r)\n",
    "\n",
    "    return (cx / (np.power((1 + r), 2))) / b"
   ]
  },
  {
   "cell_type": "markdown",
   "metadata": {},
   "source": [
    "change when the interest rates changes you will then calculate\n",
    "\n",
    "$$\\frac{\\Delta B_0}{B_0}\\approx-D^*\\Delta y + \\frac{1}{2}Cx(\\Delta y)^2$$"
   ]
  },
  {
   "cell_type": "markdown",
   "metadata": {
    "collapsed": true
   },
   "source": [
    "#### Example \n",
    "A 3 year bond with a face value of $100 makes annual coupon payments of 10%. The current interest rate\n",
    "(with annual compounding) is 9%.\n",
    "1. Determine the current bond price.\n",
    "2. Suppose the interest rate changes to 10%, determine the new price of the bond by direct calculation.\n",
    "3. Use duration to estimate the new price and compare it to the correct price.\n",
    "4. Use convexity to improve on the estimate using duration only."
   ]
  },
  {
   "cell_type": "code",
   "execution_count": 13,
   "metadata": {
    "collapsed": false
   },
   "outputs": [],
   "source": [
    "c = np.array([10., 10, 110])\n",
    "t = np.arange(1, 4)\n",
    "r = .09\n",
    "b = np.sum(c * (1. / np.power((1 + r), t)))\n",
    "d = np.sum(( 1 / b) * t * c * (1. / np.power((1 + r), t)))"
   ]
  },
  {
   "cell_type": "code",
   "execution_count": 14,
   "metadata": {
    "collapsed": false
   },
   "outputs": [
    {
     "name": "stdout",
     "output_type": "stream",
     "text": [
      "bonds price = 102.531\n",
      "bond duration = 2.73895\n",
      "bond macaulay = 2.51280\n",
      "bond convexity = 8.93248\n",
      "new bond price = 100\n"
     ]
    }
   ],
   "source": [
    "print('bonds price = {:.3f}'.format(bonds_price_discrete(t, c, r)))\n",
    "print('bond duration = {:.5f}'.format(bonds_duration_discrete(t, c, r)))\n",
    "print('bond macaulay = {:.5f}'.format(bonds_duration_modifed_discrete(t, c, b)))\n",
    "print('bond convexity = {:.5f}'.format(bonds_convexity_discrete(t, c, r)))\n",
    "print('new bond price = {:.0f}'.format(bonds_price_discrete(t, c, .1)))"
   ]
  },
  {
   "cell_type": "markdown",
   "metadata": {},
   "source": [
    "### 4.2 Continously compounded interest\n",
    "\n",
    "Some important differences is worth pointing out. When using continously compounded interest, one\n",
    "does not need the concept of *modified duration*. In the continously compounded case one uses the\n",
    "calculated duration directly to approximate bond changes, as seen in the formulas describing the approximation of bond price changes. Note also the difference in the *convexity* calculation, one does not divide by $(1 + y)^2$ in the continously compounded formula, as was done in the discrete case."
   ]
  },
  {
   "cell_type": "code",
   "execution_count": 15,
   "metadata": {
    "collapsed": true
   },
   "outputs": [],
   "source": [
    "# Code 4.7: Bond price calculation with continously compounded interest and a flat term structure\n",
    "def bonds_price(cashflows_times, cashflows, r):\n",
    "    \n",
    "    p = 0\n",
    "    \n",
    "    for i in range(len(cashflows_times)):\n",
    "        p += np.exp(-r * cashflows_times[i]) * cashflows[i]\n",
    "        \n",
    "    return p"
   ]
  },
  {
   "cell_type": "code",
   "execution_count": 16,
   "metadata": {
    "collapsed": true
   },
   "outputs": [],
   "source": [
    "# Code 4.8: Bond duration calculation with continously compounded interest and a flat term strucutre\n",
    "def bonds_duration(cashflows_times, cashflows, r):\n",
    "    \n",
    "    s = 0\n",
    "    d1 = 0\n",
    "    \n",
    "    for i in range(len(cashflows_times)):\n",
    "        s += cashflows[i] * np.exp(-r * cashflows_times[i])\n",
    "        d1 += cashflows_times[i] * cashflows[i] * np.exp(-r * cashflows_times[i])\n",
    "        \n",
    "    return d1 / s"
   ]
  },
  {
   "cell_type": "code",
   "execution_count": 17,
   "metadata": {
    "collapsed": true
   },
   "outputs": [],
   "source": [
    "# Code 4.9: Calculating the Macaulay duration of a bond with continously\n",
    "# compounded interest and a flat term structure\n",
    "def bonds_duration_macaulay(cashflows_times, cashflows, bond_price):\n",
    "    \n",
    "    y = bond_yield_to_maturity_discrete(cashflows_times, cashflows, bond_price)\n",
    "    \n",
    "    return bonds_duration(cashflows_times, cashflows, y) # use YTM in duration"
   ]
  },
  {
   "cell_type": "code",
   "execution_count": 18,
   "metadata": {
    "collapsed": true
   },
   "outputs": [],
   "source": [
    "# Code 4.10: Bond convexity calculation with continously compounded interest\n",
    "# and a flat term structure\n",
    "def bonds_convexity(times, cashflows, r):\n",
    "    \n",
    "    c = 0\n",
    "    for i in range(len(times)):\n",
    "        \n",
    "        c += cashflows[i] * np.power(times[i], 2) * np.exp(-r * times[i])\n",
    "        \n",
    "    b = bonds_price(times, cashflows, r)\n",
    "    \n",
    "    return c / b"
   ]
  },
  {
   "cell_type": "markdown",
   "metadata": {},
   "source": [
    "#### Example\n",
    "A 3 year bond with a face value of $100 makes annual coupon payments of 10%. The current interest rate\n",
    "(with continous compounding) is 9%.\n",
    "1. Calculate the bond’s price, yield to maturity, duration and convexity.\n",
    "2. Suppose the interest rate falls to 8%. Estimate the new bond price using duration, and compare with\n",
    "the actual bond price using the correct interest rate."
   ]
  },
  {
   "cell_type": "code",
   "execution_count": 19,
   "metadata": {
    "collapsed": true
   },
   "outputs": [],
   "source": [
    "c = np.array([10., 10, 110])\n",
    "t = np.arange(1, 4)\n",
    "r = .09"
   ]
  },
  {
   "cell_type": "code",
   "execution_count": 20,
   "metadata": {
    "collapsed": false
   },
   "outputs": [
    {
     "name": "stdout",
     "output_type": "stream",
     "text": [
      "bonds price = 101.464\n",
      "bond duration = 2.73753\n",
      "bond convexity = 7.86779\n",
      "new bond price = 104.282\n"
     ]
    }
   ],
   "source": [
    "print('bonds price = {:.3f}'.format(bonds_price(t, c, r)))\n",
    "print('bond duration = {:.5f}'.format(bonds_duration(t, c, r)))\n",
    "print('bond convexity = {:.5f}'.format(bonds_convexity(t, c, r)))\n",
    "print('new bond price = {:.3f}'.format(bonds_price(t, c, .08)))"
   ]
  },
  {
   "cell_type": "markdown",
   "metadata": {},
   "source": [
    "The term structure is flat, and compounding is continous. Consider two definitions of duration, the “usual” definition $D = \\frac{1}{B_0}\\sum_{i}t_iC_{t_i}e^{-rt}$ and the Macaulay defintion: $D=\\frac{1}{b_0}\\sum_{i}t_iC_{t_i}e^{-yt_i}$, where $B_0$ is the current bond price, $C_{t_i}$ is the coupon payment at date $t_i$, $r$ is the current interest rate and $y$ is the bond’s yield to maturity."
   ]
  },
  {
   "cell_type": "code",
   "execution_count": null,
   "metadata": {
    "collapsed": true
   },
   "outputs": [],
   "source": []
  }
 ],
 "metadata": {
  "anaconda-cloud": {},
  "kernelspec": {
   "display_name": "Python [default]",
   "language": "python",
   "name": "python3"
  },
  "language_info": {
   "codemirror_mode": {
    "name": "ipython",
    "version": 3
   },
   "file_extension": ".py",
   "mimetype": "text/x-python",
   "name": "python",
   "nbconvert_exporter": "python",
   "pygments_lexer": "ipython3",
   "version": "3.5.1"
  }
 },
 "nbformat": 4,
 "nbformat_minor": 1
}
